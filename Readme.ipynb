{
 "cells": [
  {
   "cell_type": "markdown",
   "id": "ef31b73e",
   "metadata": {},
   "source": [
    "# About Me"
   ]
  },
  {
   "cell_type": "markdown",
   "id": "3cd1f3f8",
   "metadata": {},
   "source": [
    "I am Morgan A. Keith, I received my Bachelor's in Psychology from OU where I was a club gymnast and part of a team that won 2x National Champions. I achieved individual accolades as a gymnast, and as a coach had the opportunity to coach boy's gymnastics who also earned State and Regional accolades. After my 20 years in the gymnastics community, I was an Inventory Specialist where I improved production processes and safety. I enjoyed training new hires and using my investigative skills to solve inventory discrepancies, but I found working with data to solve and predict workflow and production issues to be what intrigued me. From here, I discovered my love of Data Science and joined Flatiron to improve my data analytics skills, build machine learning models, and create visuals to convey my findings. Now, I pursue my passion for Data Science by continuously learning and improving on new skills, as well as building projects."
   ]
  },
  {
   "cell_type": "markdown",
   "id": "aefa1c52",
   "metadata": {},
   "source": [
    "### Projects"
   ]
  },
  {
   "cell_type": "markdown",
   "id": "799a5b83-624d-4487-b445-ea490ba7b1ea",
   "metadata": {},
   "source": [
    "#### NFL Data Analysis App - [Github](https://github.com/Blue723/NFL_Data_App), [App Link](https://footballdataapp.streamlit.app/)\n",
    "Build Python / Streamlit app for users to analyze NFL statistics using ETL processes\n",
    "- Use Python to web scrape data, create dataframes, and export to files\n",
    "- Built relational database in SQL to easily create tables\n",
    "- Use Python / Streamlit as framework to select and view data frames and graphs for data analysis\n"
   ]
  },
  {
   "cell_type": "markdown",
   "id": "b964aa13",
   "metadata": {},
   "source": [
    "#### Predicting Delivery Status - [Github](https://github.com/Blue723/Predicting_Delivery_Status)\n",
    "Use Python to create classification models that predict delivery status as Advanced, On Time, or Late\n",
    "- Extract Data (170k+), clean, filter, and aggregate data for quantitative analysis\n",
    "- Work independently and decision-making to strategize the project and Powerpoint presentation\n",
    "- Implemented supervised learning models (Random Forest, XGBoost) through pipelines to achieve highest accuracy test results (0.86) on classification models\n"
   ]
  },
  {
   "cell_type": "markdown",
   "id": "1a9eb439",
   "metadata": {},
   "source": [
    "#### Housing Price Prediction - [Github](https://github.com/Blue723/Housing_Time_Series)\n",
    "Use Python to create SARIMA models to predict housing trends.\n",
    "- Extract data and data management such as clean and filter data for quality assurance\n",
    "- Performed a quantitative analysis and visualization housing price trends in the Houston,TX area\n",
    "- Predictive analytics on housing prices 3 years in advance with the confidence interval to represent risk\n",
    "\n"
   ]
  },
  {
   "cell_type": "markdown",
   "id": "b2e500bb",
   "metadata": {},
   "source": [
    "#### Airline Delays  - [Github](https://github.com/Blue723/Airline_Delays)\n",
    "Use Decision Tree, Random Forest, and XGBoost to predict a flight’s delay for selected destinations.\n",
    "- Use dataset of 160k+ for quantitative analysis and use supervised learning models predictive classification\n",
    "- Normalize and standardize data for accurate and quality modeling\n",
    "- Used XGBoost for gradient descent ability to decrease loss and predict delays with an increase accuracy (.74)\n"
   ]
  },
  {
   "cell_type": "code",
   "execution_count": null,
   "id": "d0909a32-60aa-48b3-973e-0a135bd6b6f2",
   "metadata": {},
   "outputs": [],
   "source": []
  }
 ],
 "metadata": {
  "kernelspec": {
   "display_name": "Python 3 (ipykernel)",
   "language": "python",
   "name": "python3"
  },
  "language_info": {
   "codemirror_mode": {
    "name": "ipython",
    "version": 3
   },
   "file_extension": ".py",
   "mimetype": "text/x-python",
   "name": "python",
   "nbconvert_exporter": "python",
   "pygments_lexer": "ipython3",
   "version": "3.11.5"
  }
 },
 "nbformat": 4,
 "nbformat_minor": 5
}
