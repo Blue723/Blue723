{
 "cells": [
  {
   "cell_type": "markdown",
   "id": "08e79bd1",
   "metadata": {},
   "source": [
    "![image.png](img/Github_Banner.png)"
   ]
  },
  {
   "cell_type": "markdown",
   "id": "ef31b73e",
   "metadata": {},
   "source": [
    "# About Me"
   ]
  },
  {
   "cell_type": "markdown",
   "id": "3cd1f3f8",
   "metadata": {},
   "source": [
    "I am Morgan Keith, I use data science to predict classifications for data with machine learning techniques. As a former gymnast and coach I worked in a team and taught others based on their strengths. I worked in inventory which required creatively finding and solving errors in the process. I use these skills to work in a team to creatively solve problems while building machine learning models.\n"
   ]
  },
  {
   "cell_type": "markdown",
   "id": "aefa1c52",
   "metadata": {},
   "source": [
    "### Projects"
   ]
  },
  {
   "cell_type": "markdown",
   "id": "b2e500bb",
   "metadata": {},
   "source": [
    "##### Airline Delays\n",
    "\n",
    "Used Decision Tree, Random Forest, and XGBoost to predict a flight’s delay.\n",
    "- Decision Tree used the feature's trend with a flight delay \n",
    "- Random Forest aggregates all the features of a flight’s delay trend \n",
    "- Used XGBoost for gradient descent ability to minimize loss and predict delays  \n",
    "- RandomSearchCV to tune parameters and improve prediction results\n",
    "\n"
   ]
  },
  {
   "cell_type": "markdown",
   "id": "1a9eb439",
   "metadata": {},
   "source": [
    "##### Housing Price Prediction\n",
    "\n",
    "Used SARIMA modeling to predict future house pricing within the confidence interval.\n",
    "- Set index to time series and used pandas melt to transform the dataframe from wide to long\n",
    "- SARIMA model uses autorregressive (p), moving average(q), differencing to series (d), to weight more recent events higher\n",
    "- Visualize predicted housing prices 3 years in advance with the confidence interval to represent uncertainty"
   ]
  },
  {
   "cell_type": "markdown",
   "id": "b964aa13",
   "metadata": {},
   "source": [
    "##### Predicting Delivery Status\n",
    "\n",
    "Used Logistic Regression, Random Forest, and XGBoost to predict order status\n",
    "- Logistic Regression to observe how a baseline model predicted.\n",
    "- Random Forest to aggregate various model classification outcomes\n",
    "- XGBoost, its bagging helped improve the model, since the data has unequal samples sizes, the larger samples provied less noise. "
   ]
  }
 ],
 "metadata": {
  "kernelspec": {
   "display_name": "Python 3",
   "language": "python",
   "name": "python3"
  },
  "language_info": {
   "codemirror_mode": {
    "name": "ipython",
    "version": 3
   },
   "file_extension": ".py",
   "mimetype": "text/x-python",
   "name": "python",
   "nbconvert_exporter": "python",
   "pygments_lexer": "ipython3",
   "version": "3.8.8"
  }
 },
 "nbformat": 4,
 "nbformat_minor": 5
}
