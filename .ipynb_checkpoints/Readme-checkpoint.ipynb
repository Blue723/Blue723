{
 "cells": [
  {
   "cell_type": "markdown",
   "id": "f587ff29",
   "metadata": {},
   "source": [
    "![image.png](img/Morgan A. Keith.png)"
   ]
  },
  {
   "cell_type": "markdown",
   "id": "ef31b73e",
   "metadata": {},
   "source": [
    "# About Me"
   ]
  },
  {
   "cell_type": "markdown",
   "id": "3cd1f3f8",
   "metadata": {},
   "source": [
    "I am Morgan Keith, I use data science to predict classifications for data with machine learning techniques. As a former gymnast and coach I worked in a team and taught others based on their strengths. I worked in inventory which required creatively finding and solving errors in the process. I use these skills to work in a team to creatively solve problems while building machine learning models.\n"
   ]
  },
  {
   "cell_type": "code",
   "execution_count": null,
   "id": "a36d5a1f",
   "metadata": {},
   "outputs": [],
   "source": []
  }
 ],
 "metadata": {
  "kernelspec": {
   "display_name": "Python 3",
   "language": "python",
   "name": "python3"
  },
  "language_info": {
   "codemirror_mode": {
    "name": "ipython",
    "version": 3
   },
   "file_extension": ".py",
   "mimetype": "text/x-python",
   "name": "python",
   "nbconvert_exporter": "python",
   "pygments_lexer": "ipython3",
   "version": "3.8.8"
  }
 },
 "nbformat": 4,
 "nbformat_minor": 5
}
