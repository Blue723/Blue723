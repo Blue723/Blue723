{
 "cells": [
  {
   "cell_type": "markdown",
   "id": "ef31b73e",
   "metadata": {},
   "source": [
    "# About Me"
   ]
  },
  {
   "cell_type": "markdown",
   "id": "3cd1f3f8",
   "metadata": {},
   "source": [
    "I am Morgan Keith, I use data science to predict classifications for data with machine learning techniques. As a former gymnast and coach I worked in a team and taught others based on their strengths. I worked in inventory which required creatively finding and solving errors in the process. I use these skills to work in a team to creatively solve problems while building machine learning models.\n"
   ]
  },
  {
   "cell_type": "markdown",
   "id": "aefa1c52",
   "metadata": {},
   "source": [
    "### Projects"
   ]
  },
  {
   "cell_type": "markdown",
   "id": "b964aa13",
   "metadata": {},
   "source": [
    "##### Predicting Delivery Status\n",
    "\n",
    "Use advanced analytics for Logistic Regression, Random Forest, and XGBoost models to predict order status.\n",
    "- Extract Data (170k+), perform quantitative analysis and aggregate to interpret analytical relationships for data visualization\n",
    "- Work independently and decision-making to strategize the project and Powerpoint presentation\n",
    "- Implemented supervised learning models through pipelines to achieve highest accuracy test results (0.74) on classification models"
   ]
  },
  {
   "cell_type": "markdown",
   "id": "1a9eb439",
   "metadata": {},
   "source": [
    "##### Housing Price Prediction\n",
    "\n",
    "Use quantitative finance for SARIMA modeling to predict future house pricing with risk\n",
    "- Set index to time series and used pandas melt to transform the dataframe from wide to long\n",
    "- Performed a quantitative analysis on price changing over time in the Houston,TX area\n",
    "- Visualize predictive analytics on housing prices 3 years in advance with the confidence interval to represent risk in investment"
   ]
  },
  {
   "cell_type": "markdown",
   "id": "b2e500bb",
   "metadata": {},
   "source": [
    "##### Airline Delays\n",
    "\n",
    "Use Decision Tree, Random Forest, and XGBoost to predict a flight’s delay.\n",
    "- Data management (160k+) for accurate analytical results for the models\n",
    "- Random Forest aggregates all the features of a flight’s delay trend \n",
    "- Used XGBoost for gradient descent ability to decrease loss and predict delays with an increase accuracy (.74)\n"
   ]
  },
  {
   "cell_type": "code",
   "execution_count": null,
   "id": "d38adc7e",
   "metadata": {},
   "outputs": [],
   "source": []
  }
 ],
 "metadata": {
  "kernelspec": {
   "display_name": "Python 3",
   "language": "python",
   "name": "python3"
  },
  "language_info": {
   "codemirror_mode": {
    "name": "ipython",
    "version": 3
   },
   "file_extension": ".py",
   "mimetype": "text/x-python",
   "name": "python",
   "nbconvert_exporter": "python",
   "pygments_lexer": "ipython3",
   "version": "3.8.8"
  }
 },
 "nbformat": 4,
 "nbformat_minor": 5
}
